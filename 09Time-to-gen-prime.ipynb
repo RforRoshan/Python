{
 "cells": [
  {
   "cell_type": "code",
   "execution_count": 16,
   "id": "3bf43771",
   "metadata": {},
   "outputs": [],
   "source": [
    "def checkprime(n):\n",
    "    for i in range(2, (n//2)+1):\n",
    "        if(n % i == 0):\n",
    "            return False\n",
    "    return True"
   ]
  },
  {
   "cell_type": "code",
   "execution_count": 17,
   "id": "6efc73c0",
   "metadata": {},
   "outputs": [],
   "source": [
    "def getprimes(start, end):\n",
    "    s=\"\"\n",
    "    for i in range(start,end+1):\n",
    "        if (checkprime(i)==True):\n",
    "            s=s+str(i)+\" \"\n",
    "    return s"
   ]
  },
  {
   "cell_type": "code",
   "execution_count": 18,
   "id": "73b95148",
   "metadata": {},
   "outputs": [
    {
     "name": "stdout",
     "output_type": "stream",
     "text": [
      "1 - 1000 -> 0:00:00.003989\n",
      "1001 - 2000 -> 0:00:00.010005\n",
      "2001 - 3000 -> 0:00:00.011941\n",
      "3001 - 4000 -> 0:00:00.022087\n",
      "4001 - 5000 -> 0:00:00.018968\n",
      "5001 - 6000 -> 0:00:00.021942\n",
      "6001 - 7000 -> 0:00:00.027150\n",
      "7001 - 8000 -> 0:00:00.027630\n",
      "8001 - 9000 -> 0:00:00.033311\n",
      "9001 - 10000 -> 0:00:00.035089\n"
     ]
    }
   ],
   "source": [
    "from datetime import datetime\n",
    "for i in range(1,10000,1000):\n",
    "    t1 = datetime.now()\n",
    "    getprimes(i,i+999)\n",
    "    t2 = datetime.now()\n",
    "    t=t2-t1\n",
    "    print(i,\"-\",i+999,\"->\",t)"
   ]
  },
  {
   "cell_type": "code",
   "execution_count": null,
   "id": "0fcab603",
   "metadata": {},
   "outputs": [],
   "source": []
  }
 ],
 "metadata": {
  "kernelspec": {
   "display_name": "Python 3 (ipykernel)",
   "language": "python",
   "name": "python3"
  },
  "language_info": {
   "codemirror_mode": {
    "name": "ipython",
    "version": 3
   },
   "file_extension": ".py",
   "mimetype": "text/x-python",
   "name": "python",
   "nbconvert_exporter": "python",
   "pygments_lexer": "ipython3",
   "version": "3.9.12"
  }
 },
 "nbformat": 4,
 "nbformat_minor": 5
}
