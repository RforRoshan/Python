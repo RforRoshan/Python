{
 "cells": [
  {
   "cell_type": "code",
   "execution_count": 10,
   "id": "40edfad1",
   "metadata": {},
   "outputs": [],
   "source": [
    "f=open(\"song.txt\",'r')\n",
    "text=f.read()\n",
    "c=len(text.split())\n",
    "f.close()"
   ]
  },
  {
   "cell_type": "code",
   "execution_count": 12,
   "id": "08f0b9da",
   "metadata": {},
   "outputs": [],
   "source": [
    "f=open(\"song2.txt\",'w')\n",
    "f.write(\"No. of words in song.txt = \"+str(c))\n",
    "f.close()"
   ]
  }
 ],
 "metadata": {
  "kernelspec": {
   "display_name": "Python 3 (ipykernel)",
   "language": "python",
   "name": "python3"
  },
  "language_info": {
   "codemirror_mode": {
    "name": "ipython",
    "version": 3
   },
   "file_extension": ".py",
   "mimetype": "text/x-python",
   "name": "python",
   "nbconvert_exporter": "python",
   "pygments_lexer": "ipython3",
   "version": "3.9.12"
  }
 },
 "nbformat": 4,
 "nbformat_minor": 5
}
