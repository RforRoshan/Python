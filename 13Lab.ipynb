{
 "cells": [
  {
   "cell_type": "code",
   "execution_count": 1,
   "id": "afa39205",
   "metadata": {},
   "outputs": [],
   "source": [
    "class student:\n",
    "\n",
    "    def __init__(self, studname, studage, studclass):\n",
    "        # name, age, class, marks (dict of subjects), avg, rank\n",
    "        self.name=studname\n",
    "        self.age=studage\n",
    "        self.clas= studclass\n",
    "        self.marks={}\n",
    "        self.avg=0\n",
    "        self.rank=0\n",
    "\n",
    "    def printreport(self):\n",
    "        print(\"Name : \",self.name)\n",
    "        print(\"Age : \",self.age)\n",
    "        print(\"Class : \",self.clas)\n",
    "        print(\"Marks : \",self.marks)\n",
    "        print(\"Average : \",self.avg)\n",
    "        print(\"Rank : \",self.rank)\n",
    "\n",
    "    def setmarks(self, sub, marks):\n",
    "        # phy, chem, math, bio\n",
    "        # Automatically call calcaverage -> self.calcaverage()\n",
    "        self.marks[sub]=marks\n",
    "        self.calcaverage()\n",
    "\n",
    "    def calcaverage(self):\n",
    "        # Automatically call when a setmarks is called\n",
    "        self.avg=sum((self.marks).values())/len(self.marks)\n",
    "\n",
    "    def setrank(self, rank):\n",
    "        self.rank=rank\n",
    "\n",
    "class extstudent(student):\n",
    "\n",
    "    def __init__(self, studname, studage, studclass, hobbies, address, languages):\n",
    "        # hobbies and languages are lists\n",
    "        super().__init__(studname, studage, studclass)\n",
    "        self.hobbies=hobbies\n",
    "        self.address=address\n",
    "        self.languages=languages\n",
    "\n",
    "    def printreport(self):\n",
    "        super().printreport()\n",
    "        print(\"Hobbies : \",self.hobbies)\n",
    "        print(\"Address : \",self.address)\n",
    "        print(\"Languages : \",self.languages)\n",
    "        print(\"-------------------------------------------\")\n",
    "\n",
    "    def changeinfo(self, info, value):\n",
    "        # info -> name/age/class\n",
    "        # changeinfo('name', 'Kiran')\n",
    "        if info==\"studname\":\n",
    "            self.name=value\n",
    "        elif info==\"studage\":\n",
    "            self.age=value\n",
    "        elif info==\"studclass\":\n",
    "            self.clas= value\n",
    "        elif info==\"rank\":\n",
    "            self.rank=value\n",
    "        elif info==\"hobbies\":\n",
    "            self.hobbies=value\n",
    "        elif info==\"address\":\n",
    "            self.address=value\n",
    "        elif info==\"languages\":\n",
    "            self.languages=value\n",
    "\n",
    "    def addhobby(self, hobby):\n",
    "        (self.hobbies).append(hobby)\n",
    "\n",
    "    def addlanguage(self, lang):\n",
    "        (self.languages).append(lang)\n",
    "\n",
    "    def removehobby(self, hobby):\n",
    "        (self.hobbies).remove(hobby)\n",
    "\n",
    "    def removelang(self, lang):\n",
    "        (self.languages).remove(lang)\n",
    "\n",
    "\n"
   ]
  },
  {
   "cell_type": "code",
   "execution_count": 2,
   "id": "8ba229fb",
   "metadata": {},
   "outputs": [
    {
     "name": "stdout",
     "output_type": "stream",
     "text": [
      "Name :  Anil\n",
      "Age :  10\n",
      "Class :  4\n",
      "Marks :  {}\n",
      "Average :  0\n",
      "Rank :  0\n",
      "Hobbies :  []\n",
      "Address :  Indore, India\n",
      "Languages :  ['Hindi', 'English']\n",
      "-------------------------------------------\n",
      "Name :  Anil\n",
      "Age :  10\n",
      "Class :  4\n",
      "Marks :  {}\n",
      "Average :  0\n",
      "Rank :  0\n",
      "Hobbies :  ['cricket']\n",
      "Address :  Indore, India\n",
      "Languages :  ['Hindi', 'English']\n",
      "-------------------------------------------\n"
     ]
    }
   ],
   "source": [
    "# -----------------------------------------------------------------------------\n",
    "\n",
    "\n",
    "s = student(\"Anil\", 10, 4)\n",
    "es = extstudent(\"Anil\", 10, 4, [], 'Indore, India', ['Hindi', 'English'])\n",
    "es.printreport()\n",
    "es.addhobby('cricket')\n",
    "es.printreport()\n",
    "\n",
    "\n",
    "# Do more tests\n",
    "# Test every function"
   ]
  },
  {
   "cell_type": "code",
   "execution_count": 3,
   "id": "b39722ef",
   "metadata": {},
   "outputs": [
    {
     "name": "stdout",
     "output_type": "stream",
     "text": [
      "Name :  Amit\n",
      "Age :  16\n",
      "Class :  11\n",
      "Marks :  {}\n",
      "Average :  0\n",
      "Rank :  0\n"
     ]
    }
   ],
   "source": [
    "s1=student(\"Amit\",16,11)\n",
    "s1.printreport()"
   ]
  },
  {
   "cell_type": "code",
   "execution_count": 4,
   "id": "3fce34d2",
   "metadata": {},
   "outputs": [
    {
     "name": "stdout",
     "output_type": "stream",
     "text": [
      "Name :  Amit\n",
      "Age :  16\n",
      "Class :  11\n",
      "Marks :  {'Math': 90, 'Phy': 70, 'Chem': 85}\n",
      "Average :  81.66666666666667\n",
      "Rank :  0\n"
     ]
    }
   ],
   "source": [
    "s1.setmarks(\"Math\",90)\n",
    "s1.setmarks(\"Phy\",70)\n",
    "s1.setmarks(\"Chem\",85)\n",
    "s1.printreport()"
   ]
  },
  {
   "cell_type": "code",
   "execution_count": 5,
   "id": "712afb6d",
   "metadata": {},
   "outputs": [
    {
     "name": "stdout",
     "output_type": "stream",
     "text": [
      "Name :  Amit\n",
      "Age :  16\n",
      "Class :  11\n",
      "Marks :  {'Math': 90, 'Phy': 70, 'Chem': 85}\n",
      "Average :  81.66666666666667\n",
      "Rank :  1\n"
     ]
    }
   ],
   "source": [
    "s1.setrank(1)\n",
    "s1.printreport()"
   ]
  },
  {
   "cell_type": "code",
   "execution_count": 6,
   "id": "c940e323",
   "metadata": {},
   "outputs": [
    {
     "name": "stdout",
     "output_type": "stream",
     "text": [
      "Name :  Raj\n",
      "Age :  18\n",
      "Class :  12\n",
      "Marks :  {'Math': 88, 'Phy': 87, 'Chem': 86}\n",
      "Average :  87.0\n",
      "Rank :  0\n",
      "Hobbies :  ['Cricket', 'Football']\n",
      "Address :  M.P. India\n",
      "Languages :  ['hindi', 'English']\n",
      "-------------------------------------------\n"
     ]
    }
   ],
   "source": [
    "s2=extstudent(\"Raj\", 18, 12, [\"Cricket\",\"Football\"], \"M.P. India\", [\"hindi\",\"English\"])\n",
    "s2.setmarks(\"Math\",88)\n",
    "s2.setmarks(\"Phy\",87)\n",
    "s2.setmarks(\"Chem\",86)\n",
    "s2.printreport()"
   ]
  },
  {
   "cell_type": "code",
   "execution_count": 7,
   "id": "7f5fda10",
   "metadata": {},
   "outputs": [
    {
     "name": "stdout",
     "output_type": "stream",
     "text": [
      "Name :  Raj\n",
      "Age :  17\n",
      "Class :  12\n",
      "Marks :  {'Math': 88, 'Phy': 87, 'Chem': 86}\n",
      "Average :  87.0\n",
      "Rank :  1\n",
      "Hobbies :  ['Cricket', 'Football']\n",
      "Address :  M.P. India\n",
      "Languages :  ['hindi', 'English']\n",
      "-------------------------------------------\n"
     ]
    }
   ],
   "source": [
    "s2.changeinfo(\"studage\",17)\n",
    "s2.changeinfo(\"rank\",1)\n",
    "s2.printreport()"
   ]
  },
  {
   "cell_type": "code",
   "execution_count": 8,
   "id": "e390b7f1",
   "metadata": {},
   "outputs": [
    {
     "name": "stdout",
     "output_type": "stream",
     "text": [
      "Name :  Raj\n",
      "Age :  17\n",
      "Class :  12\n",
      "Marks :  {'Math': 88, 'Phy': 87, 'Chem': 86}\n",
      "Average :  87.0\n",
      "Rank :  1\n",
      "Hobbies :  ['Cricket', 'Football', 'Chess']\n",
      "Address :  M.P. India\n",
      "Languages :  ['hindi', 'English', 'Tamil']\n",
      "-------------------------------------------\n"
     ]
    }
   ],
   "source": [
    "s2.addhobby(\"Chess\")\n",
    "s2.addlanguage(\"Tamil\")\n",
    "s2.printreport()"
   ]
  },
  {
   "cell_type": "code",
   "execution_count": 9,
   "id": "d02e0ce1",
   "metadata": {},
   "outputs": [
    {
     "name": "stdout",
     "output_type": "stream",
     "text": [
      "Name :  Raj\n",
      "Age :  17\n",
      "Class :  12\n",
      "Marks :  {'Math': 88, 'Phy': 87, 'Chem': 86}\n",
      "Average :  87.0\n",
      "Rank :  1\n",
      "Hobbies :  ['Cricket', 'Football']\n",
      "Address :  M.P. India\n",
      "Languages :  ['hindi', 'English']\n",
      "-------------------------------------------\n"
     ]
    }
   ],
   "source": [
    "s2.removehobby(\"Chess\")\n",
    "s2.removelang(\"Tamil\")\n",
    "s2.printreport()"
   ]
  }
 ],
 "metadata": {
  "kernelspec": {
   "display_name": "Python 3 (ipykernel)",
   "language": "python",
   "name": "python3"
  },
  "language_info": {
   "codemirror_mode": {
    "name": "ipython",
    "version": 3
   },
   "file_extension": ".py",
   "mimetype": "text/x-python",
   "name": "python",
   "nbconvert_exporter": "python",
   "pygments_lexer": "ipython3",
   "version": "3.9.12"
  }
 },
 "nbformat": 4,
 "nbformat_minor": 5
}
