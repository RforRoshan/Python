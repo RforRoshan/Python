{
 "cells": [
  {
   "cell_type": "markdown",
   "id": "b28d5505",
   "metadata": {},
   "source": [
    "# Kevin and Stuart want to play the 'The Minion Game'"
   ]
  },
  {
   "cell_type": "markdown",
   "id": "88da500a",
   "metadata": {},
   "source": [
    "Game Rules\n",
    "\n",
    "Both players are given the same string, .\n",
    "Both players have to make substrings using the letters of the string .\n",
    "Stuart has to make words starting with consonants.\n",
    "Kevin has to make words starting with vowels.\n",
    "The game ends when both players have made all possible substrings.\n",
    "\n",
    "Scoring\n",
    "A player gets +1 point for each occurrence of the substring in the string .\n",
    "\n",
    "For Example:\n",
    "String  = BANANA\n",
    "Kevin's vowel beginning word = ANA\n",
    "Here, ANA occurs twice in BANANA. Hence, Kevin will get 2 Points."
   ]
  },
  {
   "cell_type": "code",
   "execution_count": 3,
   "id": "39ef4e8a",
   "metadata": {},
   "outputs": [
    {
     "name": "stdout",
     "output_type": "stream",
     "text": [
      "BANANA\n",
      "Stuart 12\n"
     ]
    }
   ],
   "source": [
    "def minion_game(string):\n",
    "    s=string\n",
    "    v=\"AEIOU\"\n",
    "    t=0\n",
    "    k=0\n",
    "    for i in range(0,len(s)):\n",
    "        if s[i] in v:\n",
    "            k=k+len(s)-i\n",
    "    for i in range(0,len(s)):\n",
    "        if s[i] not in v:\n",
    "            t=t+len(s)-i\n",
    "    if k>t:\n",
    "        print(\"Kevin\",k)\n",
    "    elif t>k:\n",
    "        print(\"Stuart\",t)\n",
    "    else:\n",
    "        print(\"Draw\")\n",
    "if __name__ == '__main__':\n",
    "    s = input()\n",
    "    minion_game(s)"
   ]
  }
 ],
 "metadata": {
  "kernelspec": {
   "display_name": "Python 3 (ipykernel)",
   "language": "python",
   "name": "python3"
  },
  "language_info": {
   "codemirror_mode": {
    "name": "ipython",
    "version": 3
   },
   "file_extension": ".py",
   "mimetype": "text/x-python",
   "name": "python",
   "nbconvert_exporter": "python",
   "pygments_lexer": "ipython3",
   "version": "3.9.12"
  }
 },
 "nbformat": 4,
 "nbformat_minor": 5
}
